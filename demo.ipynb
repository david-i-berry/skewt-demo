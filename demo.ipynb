{
 "cells": [
  {
   "cell_type": "markdown",
   "metadata": {},
   "source": [
    "# Upper Air Sounding Analysis\n",
    "\n",
    "This notebook creates Skew-T Log-P diagrams from upper air sounding data accessed via REST API.\n",
    "\n",
    "## Setup\n",
    "\n",
    "First, let's install the required packages:"
   ]
  },
  {
   "cell_type": "code",
   "execution_count": null,
   "metadata": {},
   "source": [
    "!pip install requests pandas numpy matplotlib metpy"
   ]
  },
  {
   "cell_type": "markdown",
   "metadata": {},
   "source": [
    "## Import Libraries"
   ]
  },
  {
   "cell_type": "code",
   "execution_count": null,
   "metadata": {},
   "source": [
    "import requests\n",
    "import pandas as pd\n",
    "import numpy as np\n",
    "import matplotlib.pyplot as plt\n",
    "from metpy.plots import SkewT\n",
    "from metpy.units import units\n",
    "from metpy.calc import (\n",
    "    parcel_profile, \n",
    "    cape_cin, \n",
    "    lifted_index, \n",
    "    precipitable_water, \n",
    "    wind_components, \n",
    "    bulk_shear\n",
    ")"
   ]
  },
  {
   "cell_type": "markdown",
   "metadata": {},
   "source": [
    "## Define Functions"
   ]
  },
  {
   "cell_type": "code",
   "execution_count": null,
   "metadata": {},
   "source": [
    "def fetch_sounding_data(report_id):\n",
    "    \"\"\"Fetch sounding data from the API\"\"\"\n",
    "    url = f\"http://65.21.25.17/collections/upper_air/items?report={report_id}&sortby=-z_value\"\n",
    "    \n",
    "    try:\n",
    "        response = requests.get(url)\n",
    "        response.raise_for_status()\n",
    "        \n",
    "        data = response.json()\n",
    "        features = data.get('features', [])\n",
    "        \n",
    "        rows = []\n",
    "        for feature in features:\n",
    "            props = feature.get('properties', {})\n",
    "            geom = feature.get('geometry', {})\n",
    "            coords = geom.get('coordinates', [0, 0])\n",
    "            \n",
    "            row = {\n",
    "                'z_value': props.get('z_value'),\n",
    "                'datetime': props.get('phenomenon_time_end'),\n",
    "                'lon': coords[0],\n",
    "                'lat': coords[1],\n",
    "                'temperature': props.get('air_temperature'),\n",
    "                'dew_point_temperature': props.get('dew_point_temperature'),\n",
    "                'wind_speed': props.get('wind_speed'),\n",
    "                'wind_direction': props.get('wind_from_direction')\n",
    "            }\n",
    "            rows.append(row)\n",
    "        \n",
    "        df = pd.DataFrame(rows)\n",
    "        return df.sort_values('z_value', ascending=False)\n",
    "        \n",
    "    except requests.exceptions.RequestException as e:\n",
    "        print(f\"Error fetching data: {e}\")\n",
    "        raise"
   ]
  },
  {
   "cell_type": "code",
   "execution_count": null,
   "metadata": {},
   "source": [
    "def create_skewt_plot(data):\n",
    "    \"\"\"Create Skew-T plot from DataFrame\"\"\"\n",
    "    # Convert units\n",
    "    pressure = data['z_value'].values * units.hPa\n",
    "    temperature = data['temperature'].values * units.degC\n",
    "    dewpoint = data['dew_point_temperature'].values * units.degC\n",
    "    wind_speed = data['wind_speed'].values * units.meter_per_second\n",
    "    wind_dir = data['wind_direction'].values * units.degrees\n",
    "    \n",
    "    # Calculate wind components\n",
    "    u, v = wind_components(wind_speed, wind_dir)\n",
    "\n",
    "    # Create figure and SkewT object\n",
    "    fig = plt.figure(figsize=(15, 10))\n",
    "    skew = SkewT(fig, rotation=45)\n",
    "\n",
    "    # Plot temperature and dewpoint\n",
    "    skew.plot(pressure, temperature, 'r', linewidth=2, label='Temperature')\n",
    "    skew.plot(pressure, dewpoint, 'g', linewidth=2, label='Dew Point')\n",
    "\n",
    "    # Add wind barbs\n",
    "    skew.plot_barbs(pressure, u, v)\n",
    "\n",
    "    # Calculate and plot parcel profile\n",
    "    prof = parcel_profile(pressure, temperature[0], dewpoint[0]).to('degC')\n",
    "    skew.plot(pressure, prof, 'k', linewidth=1, linestyle='--', label='Parcel')\n",
    "\n",
    "    # Add standard features\n",
    "    skew.plot_dry_adiabats(alpha=0.4)\n",
    "    skew.plot_moist_adiabats(alpha=0.4)\n",
    "    skew.plot_mixing_lines(alpha=0.4)\n",
    "\n",
    "    try:\n",
    "        # Calculate stability indices\n",
    "        cape, cin = cape_cin(pressure, temperature, dewpoint, parcel_profile_temperature=prof)\n",
    "        li = lifted_index(pressure, temperature, parcel_profile_temperature=prof)\n",
    "        pwat = precipitable_water(pressure, dewpoint)\n",
    "        shr_6km = bulk_shear(pressure, u, v, depth=6000 * units.meter)\n",
    "\n",
    "        # Add text box with calculated parameters\n",
    "        info_txt = (\n",
    "            f'CAPE: {cape.magnitude:.0f} J/kg\\n'\n",
    "            f'CIN: {cin.magnitude:.0f} J/kg\\n'\n",
    "            f'Lifted Index: {li.magnitude:.1f}\\n'\n",
    "            f'Precipitable Water: {pwat.magnitude:.1f} mm\\n'\n",
    "            f'6km Shear: {shr_6km.magnitude:.1f} m/s\\n'\n",
    "            f'Location: {data[\"lat\"].iloc[0]:.2f}°N, {data[\"lon\"].iloc[0]:.2f}°E\\n'\n",
    "            f'Time: {data[\"datetime\"].iloc[0]}'\n",
    "        )\n",
    "\n",
    "        plt.text(0.85, 0.95, info_txt, transform=plt.gca().transAxes,\n",
    "                bbox=dict(facecolor='white', alpha=0.7), fontsize=10,\n",
    "                verticalalignment='top')\n",
    "\n",
    "        # Shade CAPE and CIN areas\n",
    "        skew.shade_cape(pressure, temperature, prof)\n",
    "        skew.shade_cin(pressure, temperature, prof)\n",
    "    except Exception as e:\n",
    "        print(f\"Warning: Could not calculate some stability indices: {e}\")\n",
    "\n",
    "    # Set limits and labels\n",
    "    skew.ax.set_ylim(max(pressure.magnitude), min(pressure.magnitude))\n",
    "    skew.ax.set_xlim(-40, 40)\n",
    "    plt.title(f'Skew-T Log-P Diagram\\nReport ID: {data[\"datetime\"].iloc[0]}', fontsize=14)\n",
    "    plt.legend(loc='upper right')\n",
    "    skew.ax.grid(True, alpha=0.3)\n",
    "\n",
    "    return fig"
   ]
  },
  {
   "cell_type": "markdown",
   "metadata": {},
   "source": [
    "## Fetch and Plot Data\n",
    "\n",
    "Now let's fetch the data and create the plot for a specific report ID:"
   ]
  },
  {
   "cell_type": "code",
   "execution_count": null,
   "metadata": {},
   "source": [
    "# Set the report ID\n",
    "report_id = 271557\n",
    "\n",
    "# Fetch the data\n",
    "data = fetch_sounding_data(report_id)\n",
    "\n",
    "# Display the first few rows of data\n",
    "print(\"Raw data preview:\")\n",
    "display(data.head())"
   ]
  },
  {
   "cell_type": "code",
   "execution_count": null,
   "metadata": {},
   "source": [
    "# Create and display the plot\n",
    "fig = create_skewt_plot(data)\n",
    "plt.show()"
   ]
  },
  {
   "cell_type": "markdown",
   "metadata": {},
   "source": [
    "## Analysis Functions\n",
    "\n",
    "Let's add some additional analysis functions to examine the data:"
   ]
  },
  {
   "cell_type": "code",
   "execution_count": null,
   "metadata": {},
   "source": [
    "def analyze_sounding(data):\n",
    "    \"\"\"Perform basic analysis of the sounding data\"\"\"\n",
    "    analysis = {\n",
    "        'pressure_levels': len(data),\n",
    "        'max_height': data['z_value'].min(),\n",
    "        'surface_temp': data['temperature'].iloc[0],\n",
    "        'surface_dewpoint': data['dew_point_temperature'].iloc[0],\n",
    "        'max_wind': data['wind_speed'].max(),\n",
    "        'temp_range': data['temperature'].max() - data['temperature'].min()\n",
    "    }\n",
    "    \n",
    "    print(\"\\nSounding Analysis:\")\n",
    "    print(f\"Number of pressure levels: {analysis['pressure_levels']}\")\n",
    "    print(f\"Maximum height (minimum pressure): {analysis['max_height']:.0f} hPa\")\n",
    "    print(f\"Surface temperature: {analysis['surface_temp']:.1f}°C\")\n",
    "    print(f\"Surface dewpoint: {analysis['surface_dewpoint']:.1f}°C\")\n",
    "    print(f\"Maximum wind speed: {analysis['max_wind']:.1f} m/s\")\n",
    "    print(f\"Temperature range: {analysis['temp_range']:.1f}°C\")\n",
    "    \n",
    "    return analysis"
   ]
  },
  {
   "cell_type": "code",
   "execution_count": null,
   "metadata": {},
   "source": [
    "# Run the analysis\n",
    "analysis = analyze_sounding(data)"
   ]
  }
 ],
 "metadata": {
  "kernelspec": {
   "display_name": "Python 3",
   "language": "python",
   "name": "python3"
  },
  "language_info": {
   "codemirror_mode": {
    "name": "ipython",
    "version": 3
   },
   "file_extension": ".py",
   "mimetype": "text/x-python",
   "name": "python",
   "nbconvert_exporter": "python",
   "pygments_lexer": "ipython3",
   "version": "3.8.0"
  }
 },
 "nbformat": 4,
 "nbformat_minor": 4
}
